{
 "cells": [
  {
   "cell_type": "markdown",
   "metadata": {},
   "source": [
    "# Model 2 with sklearn-recommender PyPi package"
   ]
  },
  {
   "cell_type": "code",
   "execution_count": 39,
   "metadata": {
    "scrolled": true
   },
   "outputs": [],
   "source": [
    "#Uncomment the cell and run this once before running the notebook\n",
    "#pip install sklearn-recommender"
   ]
  },
  {
   "cell_type": "code",
   "execution_count": 40,
   "metadata": {},
   "outputs": [],
   "source": [
    "import sklearn_recommender as skr"
   ]
  },
  {
   "cell_type": "code",
   "execution_count": 41,
   "metadata": {},
   "outputs": [
    {
     "data": {
      "text/html": [
       "<div>\n",
       "<style scoped>\n",
       "    .dataframe tbody tr th:only-of-type {\n",
       "        vertical-align: middle;\n",
       "    }\n",
       "\n",
       "    .dataframe tbody tr th {\n",
       "        vertical-align: top;\n",
       "    }\n",
       "\n",
       "    .dataframe thead th {\n",
       "        text-align: right;\n",
       "    }\n",
       "</style>\n",
       "<table border=\"1\" class=\"dataframe\">\n",
       "  <thead>\n",
       "    <tr style=\"text-align: right;\">\n",
       "      <th></th>\n",
       "      <th>user</th>\n",
       "      <th>skill</th>\n",
       "      <th>gender</th>\n",
       "      <th>organization</th>\n",
       "      <th>jobtitle</th>\n",
       "      <th>industry</th>\n",
       "    </tr>\n",
       "  </thead>\n",
       "  <tbody>\n",
       "    <tr>\n",
       "      <td>0</td>\n",
       "      <td>Brandon</td>\n",
       "      <td>marketing</td>\n",
       "      <td>male</td>\n",
       "      <td>UHG</td>\n",
       "      <td>COO</td>\n",
       "      <td>Healthcare</td>\n",
       "    </tr>\n",
       "    <tr>\n",
       "      <td>1</td>\n",
       "      <td>Betty</td>\n",
       "      <td>python</td>\n",
       "      <td>female</td>\n",
       "      <td>Optum</td>\n",
       "      <td>Developer</td>\n",
       "      <td>Technology</td>\n",
       "    </tr>\n",
       "    <tr>\n",
       "      <td>2</td>\n",
       "      <td>Brennan</td>\n",
       "      <td>marketing</td>\n",
       "      <td>male</td>\n",
       "      <td>Target</td>\n",
       "      <td>CEO</td>\n",
       "      <td>Retail</td>\n",
       "    </tr>\n",
       "    <tr>\n",
       "      <td>3</td>\n",
       "      <td>Julie</td>\n",
       "      <td>java</td>\n",
       "      <td>female</td>\n",
       "      <td>Target</td>\n",
       "      <td>Senior Developer</td>\n",
       "      <td>Retail</td>\n",
       "    </tr>\n",
       "    <tr>\n",
       "      <td>4</td>\n",
       "      <td>Jennifer</td>\n",
       "      <td>java</td>\n",
       "      <td>female</td>\n",
       "      <td>UHG</td>\n",
       "      <td>Developer</td>\n",
       "      <td>Healthcare</td>\n",
       "    </tr>\n",
       "    <tr>\n",
       "      <td>5</td>\n",
       "      <td>John</td>\n",
       "      <td>scala</td>\n",
       "      <td>male</td>\n",
       "      <td>Target</td>\n",
       "      <td>Developer</td>\n",
       "      <td>Retail</td>\n",
       "    </tr>\n",
       "    <tr>\n",
       "      <td>6</td>\n",
       "      <td>Adam</td>\n",
       "      <td>java</td>\n",
       "      <td>male</td>\n",
       "      <td>QuickenLoans</td>\n",
       "      <td>CTO</td>\n",
       "      <td>Technology</td>\n",
       "    </tr>\n",
       "    <tr>\n",
       "      <td>7</td>\n",
       "      <td>Shreyas</td>\n",
       "      <td>python</td>\n",
       "      <td>male</td>\n",
       "      <td>Optum</td>\n",
       "      <td>Team Lead</td>\n",
       "      <td>Technology</td>\n",
       "    </tr>\n",
       "  </tbody>\n",
       "</table>\n",
       "</div>"
      ],
      "text/plain": [
       "       user      skill  gender  organization          jobtitle    industry\n",
       "0   Brandon  marketing    male           UHG               COO  Healthcare\n",
       "1     Betty     python  female         Optum         Developer  Technology\n",
       "2   Brennan  marketing    male        Target               CEO      Retail\n",
       "3     Julie       java  female        Target  Senior Developer      Retail\n",
       "4  Jennifer       java  female           UHG         Developer  Healthcare\n",
       "5      John      scala    male        Target         Developer      Retail\n",
       "6      Adam       java    male  QuickenLoans               CTO  Technology\n",
       "7   Shreyas     python    male         Optum         Team Lead  Technology"
      ]
     },
     "execution_count": 41,
     "metadata": {},
     "output_type": "execute_result"
    }
   ],
   "source": [
    "import pandas as pd\n",
    "#url = \"C:\\\\Users\\\\shrey\\\\Desktop\\\\my_sample_data.csv\"\n",
    "url = \"my_sample_data.csv\"\n",
    "df = pd.read_csv(url)\n",
    "\n",
    "#Categorical variables as available on our settings page\n",
    "df = df.loc[:, ['user', 'skill', 'gender', 'organization',\n",
    "                                  'jobtitle', 'industry']]\n",
    "df"
   ]
  },
  {
   "cell_type": "markdown",
   "metadata": {},
   "source": [
    "# Method 1 for one hot encoding, use pandas get dummies"
   ]
  },
  {
   "cell_type": "code",
   "execution_count": 42,
   "metadata": {},
   "outputs": [],
   "source": [
    "#cat_columns = [\"skill\", \"gender\", \"organization\", \"jobtitle\", \"industry\"]\n",
    "#df_processed = pd.get_dummies(df, prefix_sep=\"__\",\n",
    "                             # columns=cat_columns)\n",
    "#df_processed.head()"
   ]
  },
  {
   "cell_type": "markdown",
   "metadata": {},
   "source": [
    "# Method 2 for one hot encoding, use scikit learn with flexibility of column transformer"
   ]
  },
  {
   "cell_type": "code",
   "execution_count": 43,
   "metadata": {},
   "outputs": [
    {
     "data": {
      "text/plain": [
       "<8x19 sparse matrix of type '<class 'numpy.float64'>'\n",
       "\twith 40 stored elements in Compressed Sparse Row format>"
      ]
     },
     "execution_count": 43,
     "metadata": {},
     "output_type": "execute_result"
    }
   ],
   "source": [
    "#Preprocessing step\n",
    "from sklearn.preprocessing import OneHotEncoder\n",
    "from sklearn.compose import make_column_transformer\n",
    "column_trans = make_column_transformer(\n",
    "               (OneHotEncoder(), ['skill', 'gender', 'organization',\n",
    "                                 'jobtitle', 'industry']),\n",
    "                remainder='passthrough')\n",
    "X = df.drop('user', axis='columns')\n",
    "column_trans.fit_transform(X)\n"
   ]
  },
  {
   "cell_type": "code",
   "execution_count": 44,
   "metadata": {},
   "outputs": [
    {
     "data": {
      "text/html": [
       "<div>\n",
       "<style scoped>\n",
       "    .dataframe tbody tr th:only-of-type {\n",
       "        vertical-align: middle;\n",
       "    }\n",
       "\n",
       "    .dataframe tbody tr th {\n",
       "        vertical-align: top;\n",
       "    }\n",
       "\n",
       "    .dataframe thead th {\n",
       "        text-align: right;\n",
       "    }\n",
       "</style>\n",
       "<table border=\"1\" class=\"dataframe\">\n",
       "  <thead>\n",
       "    <tr style=\"text-align: right;\">\n",
       "      <th></th>\n",
       "      <th>Brandon</th>\n",
       "      <th>Betty</th>\n",
       "      <th>Brennan</th>\n",
       "      <th>Julie</th>\n",
       "      <th>Jennifer</th>\n",
       "      <th>John</th>\n",
       "      <th>Adam</th>\n",
       "      <th>Shreyas</th>\n",
       "    </tr>\n",
       "  </thead>\n",
       "  <tbody>\n",
       "    <tr>\n",
       "      <td>Brandon</td>\n",
       "      <td>1.000000</td>\n",
       "      <td>0.000000</td>\n",
       "      <td>0.250000</td>\n",
       "      <td>0.000000</td>\n",
       "      <td>0.285714</td>\n",
       "      <td>0.111111</td>\n",
       "      <td>0.142857</td>\n",
       "      <td>0.125000</td>\n",
       "    </tr>\n",
       "    <tr>\n",
       "      <td>Betty</td>\n",
       "      <td>0.000000</td>\n",
       "      <td>1.000000</td>\n",
       "      <td>0.000000</td>\n",
       "      <td>0.142857</td>\n",
       "      <td>0.333333</td>\n",
       "      <td>0.125000</td>\n",
       "      <td>0.000000</td>\n",
       "      <td>0.333333</td>\n",
       "    </tr>\n",
       "    <tr>\n",
       "      <td>Brennan</td>\n",
       "      <td>0.250000</td>\n",
       "      <td>0.000000</td>\n",
       "      <td>1.000000</td>\n",
       "      <td>0.285714</td>\n",
       "      <td>0.000000</td>\n",
       "      <td>0.428571</td>\n",
       "      <td>0.142857</td>\n",
       "      <td>0.125000</td>\n",
       "    </tr>\n",
       "    <tr>\n",
       "      <td>Julie</td>\n",
       "      <td>0.000000</td>\n",
       "      <td>0.142857</td>\n",
       "      <td>0.285714</td>\n",
       "      <td>1.000000</td>\n",
       "      <td>0.142857</td>\n",
       "      <td>0.285714</td>\n",
       "      <td>0.000000</td>\n",
       "      <td>0.000000</td>\n",
       "    </tr>\n",
       "    <tr>\n",
       "      <td>Jennifer</td>\n",
       "      <td>0.285714</td>\n",
       "      <td>0.333333</td>\n",
       "      <td>0.000000</td>\n",
       "      <td>0.142857</td>\n",
       "      <td>1.000000</td>\n",
       "      <td>0.125000</td>\n",
       "      <td>0.000000</td>\n",
       "      <td>0.000000</td>\n",
       "    </tr>\n",
       "    <tr>\n",
       "      <td>John</td>\n",
       "      <td>0.111111</td>\n",
       "      <td>0.125000</td>\n",
       "      <td>0.428571</td>\n",
       "      <td>0.285714</td>\n",
       "      <td>0.125000</td>\n",
       "      <td>1.000000</td>\n",
       "      <td>0.142857</td>\n",
       "      <td>0.125000</td>\n",
       "    </tr>\n",
       "    <tr>\n",
       "      <td>Adam</td>\n",
       "      <td>0.142857</td>\n",
       "      <td>0.000000</td>\n",
       "      <td>0.142857</td>\n",
       "      <td>0.000000</td>\n",
       "      <td>0.000000</td>\n",
       "      <td>0.142857</td>\n",
       "      <td>1.000000</td>\n",
       "      <td>0.166667</td>\n",
       "    </tr>\n",
       "    <tr>\n",
       "      <td>Shreyas</td>\n",
       "      <td>0.125000</td>\n",
       "      <td>0.333333</td>\n",
       "      <td>0.125000</td>\n",
       "      <td>0.000000</td>\n",
       "      <td>0.000000</td>\n",
       "      <td>0.125000</td>\n",
       "      <td>0.166667</td>\n",
       "      <td>1.000000</td>\n",
       "    </tr>\n",
       "  </tbody>\n",
       "</table>\n",
       "</div>"
      ],
      "text/plain": [
       "           Brandon     Betty   Brennan     Julie  Jennifer      John  \\\n",
       "Brandon   1.000000  0.000000  0.250000  0.000000  0.285714  0.111111   \n",
       "Betty     0.000000  1.000000  0.000000  0.142857  0.333333  0.125000   \n",
       "Brennan   0.250000  0.000000  1.000000  0.285714  0.000000  0.428571   \n",
       "Julie     0.000000  0.142857  0.285714  1.000000  0.142857  0.285714   \n",
       "Jennifer  0.285714  0.333333  0.000000  0.142857  1.000000  0.125000   \n",
       "John      0.111111  0.125000  0.428571  0.285714  0.125000  1.000000   \n",
       "Adam      0.142857  0.000000  0.142857  0.000000  0.000000  0.142857   \n",
       "Shreyas   0.125000  0.333333  0.125000  0.000000  0.000000  0.125000   \n",
       "\n",
       "              Adam   Shreyas  \n",
       "Brandon   0.142857  0.125000  \n",
       "Betty     0.000000  0.333333  \n",
       "Brennan   0.142857  0.125000  \n",
       "Julie     0.000000  0.000000  \n",
       "Jennifer  0.000000  0.000000  \n",
       "John      0.142857  0.125000  \n",
       "Adam      1.000000  0.166667  \n",
       "Shreyas   0.166667  1.000000  "
      ]
     },
     "execution_count": 44,
     "metadata": {},
     "output_type": "execute_result"
    }
   ],
   "source": [
    "#Build similarity matrix\n",
    "import scipy.sparse\n",
    "tf = skr.transformer.SimilarityTransformer(cols=(1, -1), normalize=True)\n",
    "sim_mat = tf.transform(pd.DataFrame.sparse.from_spmatrix(column_trans.fit_transform(X), index=df.user))\n",
    "sim_mat"
   ]
  },
  {
   "cell_type": "code",
   "execution_count": 45,
   "metadata": {},
   "outputs": [
    {
     "data": {
      "text/plain": [
       "SimilarityRecommender(ascending=False, num_items=5, sort=None)"
      ]
     },
     "execution_count": 45,
     "metadata": {},
     "output_type": "execute_result"
    }
   ],
   "source": [
    "#Recommendations are made based on the similarity of item. \n",
    "#That requires the id of an item to be given and returns the n most similar candidates.\n",
    "n = 5\n",
    "rec = skr.recommender.SimilarityRecommender(n)\n",
    "rec.fit(sim_mat)"
   ]
  },
  {
   "cell_type": "code",
   "execution_count": 46,
   "metadata": {},
   "outputs": [
    {
     "data": {
      "text/plain": [
       "array([['John', 'Julie', 'Brandon', 'Adam', 'Shreyas']], dtype=object)"
      ]
     },
     "execution_count": 46,
     "metadata": {},
     "output_type": "execute_result"
    }
   ],
   "source": [
    "rec.predict(['Brennan'])"
   ]
  }
 ],
 "metadata": {
  "kernelspec": {
   "display_name": "Python 3",
   "language": "python",
   "name": "python3"
  },
  "language_info": {
   "codemirror_mode": {
    "name": "ipython",
    "version": 3
   },
   "file_extension": ".py",
   "mimetype": "text/x-python",
   "name": "python",
   "nbconvert_exporter": "python",
   "pygments_lexer": "ipython3",
   "version": "3.7.4"
  }
 },
 "nbformat": 4,
 "nbformat_minor": 2
}
